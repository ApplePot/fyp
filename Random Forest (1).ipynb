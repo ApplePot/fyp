{
 "cells": [
  {
   "cell_type": "code",
   "execution_count": 9,
   "id": "5d5ab0cf",
   "metadata": {},
   "outputs": [
    {
     "name": "stdout",
     "output_type": "stream",
     "text": [
      "\n",
      "✅ Best Performance Up to Now(Parameters that I have tried):\n",
      "Accuracy: 74.694108 %\n",
      "Precision: 72.565336 %\n",
      "Recall: 79.174351 %\n",
      "F1 Score: 75.725916 %\n",
      "ROC AUC: 0.823358\n"
     ]
    }
   ],
   "source": [
    "import pandas as pd\n",
    "import matplotlib.pyplot as plt\n",
    "import seaborn as sns\n",
    "import numpy as np\n",
    "import os\n",
    "from sklearn.ensemble import RandomForestClassifier\n",
    "from sklearn.metrics import accuracy_score, precision_score, recall_score, f1_score, roc_auc_score\n",
    "\n",
    "\n",
    "#Read dataset (没有hot那个编码的版本)\n",
    "X_train = pd.read_csv(\"./split data/X_train_Original.csv\")\n",
    "X_test = pd.read_csv(\"./split data/X_test_Original.csv\")\n",
    "y_train = pd.read_csv(\"./split data/y_train.csv\").squeeze(\"columns\")\n",
    "y_test = pd.read_csv(\"./split data/y_test.csv\").squeeze(\"columns\")\n",
    "\n",
    "# Feature Engineering的思路：构造交互变量\n",
    "X_train[\"BMI_GenHlth\"] = X_train[\"BMI\"] * X_train[\"GenHlth\"]\n",
    "X_test[\"BMI_GenHlth\"] = X_test[\"BMI\"] * X_test[\"GenHlth\"]\n",
    "\n",
    "X_train[\"UnhealthyDays\"] = X_train[\"MentHlth\"] + X_train[\"PhysHlth\"]\n",
    "X_test[\"UnhealthyDays\"] = X_test[\"MentHlth\"] + X_test[\"PhysHlth\"]\n",
    "\n",
    "X_train[\"HealthyLifestyleScore\"] = X_train[\"PhysActivity\"] * X_train[\"Fruits\"] * X_train[\"Veggies\"]\n",
    "X_test[\"HealthyLifestyleScore\"] = X_test[\"PhysActivity\"] * X_test[\"Fruits\"] * X_test[\"Veggies\"]\n",
    "\n",
    "X_train[\"HighBP_HighChol\"] = X_train[\"HighBP\"] * X_train[\"HighChol\"]\n",
    "X_test[\"HighBP_HighChol\"] = X_test[\"HighBP\"] * X_test[\"HighChol\"]\n",
    "\n",
    "X_train[\"Smoker_HeartIssue\"] = X_train[\"Smoker\"] * X_train[\"HeartDiseaseorAttack\"]\n",
    "X_test[\"Smoker_HeartIssue\"] = X_test[\"Smoker\"] * X_test[\"HeartDiseaseorAttack\"]\n",
    "\n",
    "X_train[\"PhysAct_GenHlth\"] = X_train[\"PhysActivity\"] * X_train[\"GenHlth\"]\n",
    "X_test[\"PhysAct_GenHlth\"] = X_test[\"PhysActivity\"] * X_test[\"GenHlth\"]\n",
    "\n",
    "X_train[\"Income_Education\"] = X_train[\"Income\"] * X_train[\"Education\"]\n",
    "X_test[\"Income_Education\"] = X_test[\"Income\"] * X_test[\"Education\"]\n",
    "\n",
    "X_train[\"BMI_per_Age\"] = X_train[\"BMI\"] / (X_train[\"Age\"] + 1e-5)\n",
    "X_test[\"BMI_per_Age\"] = X_test[\"BMI\"] / (X_test[\"Age\"] + 1e-5)\n",
    "\n",
    "# selected features\n",
    "selected_features = [\n",
    "    \"HighBP\", \"HighChol\", \"GenHlth\", \"BMI\", \"Age\", \"MentHlth\", \"PhysHlth\",\n",
    "    \"HeartDiseaseorAttack\", \"DiffWalk\", \"PhysActivity\", \"Fruits\", \"Veggies\",\n",
    "    \"Smoker\", \"CholCheck\", \"Stroke\", \"Income\", \"Education\", \"Sex\",\n",
    "    \"BMI_GenHlth\", \"UnhealthyDays\", \"HealthyLifestyleScore\",\n",
    "    \"HighBP_HighChol\", \"Smoker_HeartIssue\", \"PhysAct_GenHlth\",\n",
    "    \"Income_Education\", \"BMI_per_Age\"\n",
    "]\n",
    "\n",
    "X_train_sel = X_train[selected_features]\n",
    "X_test_sel = X_test[selected_features]\n",
    "\n",
    "# 模型训练（目前最优参数,这个是我试出来的）\n",
    "model = RandomForestClassifier(\n",
    "    n_estimators=300,\n",
    "    max_depth=30,\n",
    "    min_samples_split=2,\n",
    "    min_samples_leaf=4,\n",
    "    max_features=\"log2\",\n",
    "    random_state=42\n",
    ")\n",
    "model.fit(X_train_sel, y_train)\n",
    "\n",
    "# 模型评估\n",
    "y_pred = model.predict(X_test_sel)\n",
    "y_prob = model.predict_proba(X_test_sel)[:, 1]\n",
    "\n",
    "print(\"\\n✅ Best Performance Up to Now(Parameters that I have tried):\")\n",
    "print(\"Accuracy:\", round(accuracy_score(y_test, y_pred) * 100, 6), \"%\")\n",
    "print(\"Precision:\", round(precision_score(y_test, y_pred) * 100, 6), \"%\")\n",
    "print(\"Recall:\", round(recall_score(y_test, y_pred) * 100, 6), \"%\")\n",
    "print(\"F1 Score:\", round(f1_score(y_test, y_pred) * 100, 6), \"%\")\n",
    "print(\"ROC AUC:\", round(roc_auc_score(y_test, y_prob), 6))\n"
   ]
  },
  {
   "cell_type": "code",
   "execution_count": 5,
   "id": "4b9c689c",
   "metadata": {},
   "outputs": [
    {
     "name": "stdout",
     "output_type": "stream",
     "text": [
      "🔝 Top 10 feature：\n",
      "BMI_GenHlth         0.175155\n",
      "HighBP              0.082781\n",
      "GenHlth             0.081940\n",
      "BMI                 0.080079\n",
      "BMI_per_Age         0.079319\n",
      "Age                 0.075040\n",
      "HighBP_HighChol     0.053213\n",
      "Income_Education    0.049224\n",
      "HighChol            0.036920\n",
      "UnhealthyDays       0.034352\n",
      "dtype: float64\n"
     ]
    }
   ],
   "source": [
    "# Top 10 features（based on feature_importances_）\n",
    "importances = pd.Series(model.feature_importances_, index=model.feature_names_in_)\n",
    "top_10 = importances.sort_values(ascending=False).head(10)\n",
    "print(\"🔝 Top 10 feature：\")\n",
    "print(top_10)"
   ]
  },
  {
   "cell_type": "code",
   "execution_count": null,
   "id": "089dfc42",
   "metadata": {},
   "outputs": [
    {
     "name": "stdout",
     "output_type": "stream",
     "text": [
      "Please enter the following health features:\n"
     ]
    }
   ],
   "source": [
    "def predict_diabetes_with_input(model):\n",
    "    print(\"Please enter the following health features:\")\n",
    "\n",
    "    input_dict = {\n",
    "        \"HighBP\": int(input(\"High Blood Pressure? (0 = No, 1 = Yes): \")),\n",
    "        \"HighChol\": int(input(\"High Cholesterol? (0 = No, 1 = Yes): \")),\n",
    "        \"GenHlth\": int(input(\"General Health (1 = Excellent to 5 = Poor): \")),\n",
    "        \"BMI\": float(input(\"Body Mass Index (e.g. 27.5): \")),\n",
    "        \"Age\": int(input(\"Age Group (1 to 13, 1 = youngest): \")),\n",
    "        \"MentHlth\": float(input(\"Mentally unhealthy days (last 30 days): \")),\n",
    "        \"PhysHlth\": float(input(\"Physically unhealthy days (last 30 days): \")),\n",
    "        \"HeartDiseaseorAttack\": int(input(\"Ever had heart disease or attack? (0/1): \")),\n",
    "        \"DiffWalk\": int(input(\"Difficulty walking? (0/1): \")),\n",
    "        \"PhysActivity\": int(input(\"Any physical activity/exercise in past 30 days? (0/1): \")),\n",
    "        \"Fruits\": int(input(\"Consumes fruits regularly? (0/1): \")),\n",
    "        \"Veggies\": int(input(\"Consumes vegetables regularly? (0/1): \")),\n",
    "        \"Smoker\": int(input(\"Smoker? (0/1): \")),\n",
    "        \"CholCheck\": int(input(\"Had cholesterol check in last 5 years? (0/1): \")),\n",
    "        \"Stroke\": int(input(\"Ever had a stroke? (0/1): \")),\n",
    "        \"Income\": int(input(\"Income group (1 = lowest, 8 = highest): \")),\n",
    "        \"Education\": int(input(\"Education level (1 = lowest, 6 = highest): \")),\n",
    "        \"Sex\": int(input(\"Sex (0 = Female, 1 = Male): \"))\n",
    "    }\n",
    "\n",
    "    # Derived features\n",
    "    input_dict[\"BMI_GenHlth\"] = input_dict[\"BMI\"] * input_dict[\"GenHlth\"]\n",
    "    input_dict[\"UnhealthyDays\"] = input_dict[\"MentHlth\"] + input_dict[\"PhysHlth\"]\n",
    "    input_dict[\"HealthyLifestyleScore\"] = input_dict[\"PhysActivity\"] * input_dict[\"Fruits\"] * input_dict[\"Veggies\"]\n",
    "    input_dict[\"HighBP_HighChol\"] = input_dict[\"HighBP\"] * input_dict[\"HighChol\"]\n",
    "    input_dict[\"Smoker_HeartIssue\"] = input_dict[\"Smoker\"] * input_dict[\"HeartDiseaseorAttack\"]\n",
    "    input_dict[\"PhysAct_GenHlth\"] = input_dict[\"PhysActivity\"] * input_dict[\"GenHlth\"]\n",
    "    input_dict[\"Income_Education\"] = input_dict[\"Income\"] * input_dict[\"Education\"]\n",
    "    input_dict[\"BMI_per_Age\"] = input_dict[\"BMI\"] / (input_dict[\"Age\"] + 1e-5)\n",
    "\n",
    "    # Predict\n",
    "    input_df = pd.DataFrame([input_dict])[model.feature_names_in_]\n",
    "    prob = model.predict_proba(input_df)[0][1]\n",
    "    result = model.predict(input_df)[0]\n",
    "\n",
    "    print(\"\\n🩺 Prediction Result:\")\n",
    "    print(f\"Predicted diabetes probability: {round(prob * 100, 2)}%\")\n",
    "    print(\"Prediction: \" + (\"✅ Diabetes\" if result == 1 else \"❎ Not Diabetes\"))\n",
    "    \n",
    "predict_diabetes_with_input(model)"
   ]
  },
  {
   "cell_type": "code",
   "execution_count": null,
   "id": "db8ac38f",
   "metadata": {},
   "outputs": [],
   "source": []
  }
 ],
 "metadata": {
  "kernelspec": {
   "display_name": "Python 3 (ipykernel)",
   "language": "python",
   "name": "python3"
  },
  "language_info": {
   "codemirror_mode": {
    "name": "ipython",
    "version": 3
   },
   "file_extension": ".py",
   "mimetype": "text/x-python",
   "name": "python",
   "nbconvert_exporter": "python",
   "pygments_lexer": "ipython3",
   "version": "3.12.4"
  }
 },
 "nbformat": 4,
 "nbformat_minor": 5
}
