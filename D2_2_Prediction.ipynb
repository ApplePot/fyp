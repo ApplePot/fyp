{
 "cells": [
  {
   "cell_type": "code",
   "execution_count": 21,
   "id": "3e2d3c0a",
   "metadata": {},
   "outputs": [],
   "source": [
    "import pandas as pd"
   ]
  },
  {
   "cell_type": "code",
   "execution_count": 22,
   "id": "a40501f9",
   "metadata": {},
   "outputs": [],
   "source": [
    "data = pd.read_csv('./diabetes_binary_health_indicators_BRFSS2015.csv')\n",
    "pd.set_option('display.max_columns', None)"
   ]
  },
  {
   "cell_type": "code",
   "execution_count": 23,
   "id": "f691581f",
   "metadata": {},
   "outputs": [],
   "source": [
    "from sklearn.model_selection import train_test_split\n",
    "\n",
    "X = data.drop('Diabetes_binary', axis=1)\n",
    "y = data['Diabetes_binary']\n",
    "X_train, X_test, y_train, y_test = train_test_split(X, y, test_size=0.3, random_state=42)"
   ]
  },
  {
   "cell_type": "code",
   "execution_count": 24,
   "id": "1b945724",
   "metadata": {},
   "outputs": [],
   "source": [
    "import numpy as np\n",
    "from scipy.stats import boxcox\n",
    "from sklearn.preprocessing import PowerTransformer, QuantileTransformer, Normalizer\n",
    "\n",
    "\n",
    "\n",
    "continuous_cols = ['BMI', 'MentHlth', 'PhysHlth']\n",
    "\n",
    "def apply_boxcox(series):\n",
    "    shift = 0\n",
    "    if series.min() <= 0:\n",
    "        shift = abs(series.min()) + 1e-6\n",
    "    transformed, lam = boxcox(series + shift)\n",
    "    return transformed\n",
    "\n",
    "transformation_names = [\n",
    "    \"Original\",            \n",
    "    \"PowerTransformer\",    \n",
    "    \"Log1p\",               \n",
    "    \"Sqrt\",                \n",
    "    \"BoxCox\",              \n",
    "    \"QuantileTransformer\", \n",
    "    \"Normalization\"        \n",
    "]\n",
    "\n",
    "transformed_train = {}\n",
    "transformed_test = {}\n",
    "\n",
    "for trans_name in transformation_names:\n",
    "    X_train_copy = X_train.copy()\n",
    "    X_test_copy = X_test.copy()\n",
    "    \n",
    "    if trans_name == \"Original\":\n",
    "        pass\n",
    "    elif trans_name == \"PowerTransformer\":\n",
    "        pt = PowerTransformer(method='yeo-johnson')\n",
    "        X_train_copy[continuous_cols] = pt.fit_transform(X_train_copy[continuous_cols])\n",
    "        X_test_copy[continuous_cols] = pt.transform(X_test_copy[continuous_cols])\n",
    "    elif trans_name == \"Log1p\":\n",
    "        X_train_copy[continuous_cols] = np.log1p(X_train_copy[continuous_cols])\n",
    "        X_test_copy[continuous_cols] = np.log1p(X_test_copy[continuous_cols])\n",
    "    elif trans_name == \"Sqrt\":\n",
    "        X_train_copy[continuous_cols] = np.sqrt(X_train_copy[continuous_cols])\n",
    "        X_test_copy[continuous_cols] = np.sqrt(X_test_copy[continuous_cols])\n",
    "    elif trans_name == \"BoxCox\":\n",
    "        X_train_copy[continuous_cols] = X_train_copy[continuous_cols].apply(apply_boxcox)\n",
    "        X_test_copy[continuous_cols] = X_test_copy[continuous_cols].apply(apply_boxcox)\n",
    "    elif trans_name == \"QuantileTransformer\":\n",
    "        qt = QuantileTransformer(output_distribution='normal', random_state=42)\n",
    "        X_train_copy[continuous_cols] = qt.fit_transform(X_train_copy[continuous_cols])\n",
    "        X_test_copy[continuous_cols] = qt.transform(X_test_copy[continuous_cols])\n",
    "    elif trans_name == \"Normalization\":\n",
    "        norm = Normalizer()\n",
    "        X_train_copy[continuous_cols] = norm.fit_transform(X_train_copy[continuous_cols])\n",
    "        X_test_copy[continuous_cols] = norm.transform(X_test_copy[continuous_cols])\n",
    "        \n",
    "    \n",
    "    transformed_train[trans_name] = X_train_copy\n",
    "    transformed_test[trans_name] = X_test_copy\n",
    "\n"
   ]
  },
  {
   "cell_type": "code",
   "execution_count": 25,
   "id": "988be2a3",
   "metadata": {},
   "outputs": [
    {
     "data": {
      "text/plain": [
       "(dict_keys(['Original', 'PowerTransformer', 'Log1p', 'Sqrt', 'BoxCox', 'QuantileTransformer', 'Normalization']),\n",
       " dict_keys(['Original', 'PowerTransformer', 'Log1p', 'Sqrt', 'BoxCox', 'QuantileTransformer', 'Normalization']))"
      ]
     },
     "execution_count": 25,
     "metadata": {},
     "output_type": "execute_result"
    }
   ],
   "source": [
    "transformed_train.keys(), transformed_test.keys()"
   ]
  },
  {
   "cell_type": "markdown",
   "id": "e82c23fd",
   "metadata": {},
   "source": [
    "Logistic Regression"
   ]
  },
  {
   "cell_type": "code",
   "execution_count": 26,
   "id": "ab375ba9",
   "metadata": {},
   "outputs": [
    {
     "name": "stdout",
     "output_type": "stream",
     "text": [
      "======= Grid Search For Every Transformation using Logistic Regression =======\n",
      "\n",
      "Transformation: Original\n",
      "Test Score: 0.8655\n",
      "Best Parameters: {'C': 0.01, 'penalty': 'l1'}\n",
      "\n",
      "Transformation: PowerTransformer\n",
      "Test Score: 0.8661\n",
      "Best Parameters: {'C': 0.1, 'penalty': 'l2'}\n",
      "\n",
      "Transformation: Log1p\n",
      "Test Score: 0.8663\n",
      "Best Parameters: {'C': 0.1, 'penalty': 'l1'}\n",
      "\n",
      "Transformation: Sqrt\n",
      "Test Score: 0.8657\n",
      "Best Parameters: {'C': 0.01, 'penalty': 'l1'}\n",
      "\n",
      "Transformation: BoxCox\n",
      "Test Score: 0.8608\n",
      "Best Parameters: {'C': 0.1, 'penalty': 'l1'}\n",
      "\n",
      "Transformation: QuantileTransformer\n",
      "Test Score: 0.8661\n",
      "Best Parameters: {'C': 0.1, 'penalty': 'l2'}\n",
      "\n",
      "Transformation: Normalization\n",
      "Test Score: 0.8615\n",
      "Best Parameters: {'C': 0.01, 'penalty': 'l1'}\n",
      "\n",
      "========== Best Transformation for Logistic Regression ==========\n",
      "Transformation: Log1p\n",
      "Test Score: 0.8663\n",
      "Best Parameters: {'C': 0.1, 'penalty': 'l1'}\n"
     ]
    }
   ],
   "source": [
    "from sklearn.model_selection import GridSearchCV\n",
    "from sklearn.linear_model import LogisticRegression\n",
    "\n",
    "param_grid = {\n",
    "    'C': [0.001, 0.01, 0.1],\n",
    "    'penalty': ['l1', 'l2']\n",
    "}\n",
    "\n",
    "grid_search_results = {}\n",
    "\n",
    "print(\"======= Grid Search For Every Transformation using Logistic Regression =======\")\n",
    "for trans_name in transformation_names:\n",
    "    print(f\"\\nTransformation: {trans_name}\")\n",
    "    lr = LogisticRegression(solver='liblinear', max_iter=1000)\n",
    "    grid = GridSearchCV(lr, param_grid, cv=5, scoring='accuracy', n_jobs=-1)\n",
    "   \n",
    "    grid.fit(transformed_train[trans_name], y_train)\n",
    "    test_score = grid.score(transformed_test[trans_name], y_test)\n",
    "    \n",
    "    grid_search_results[trans_name] = {\n",
    "        'best_params': grid.best_params_,\n",
    "        'test_score': test_score\n",
    "    }\n",
    "    \n",
    "    print(f\"Test Score: {test_score:.4f}\")\n",
    "    print(f\"Best Parameters: {grid.best_params_}\")\n",
    "\n",
    "best_trans = None\n",
    "best_test_score = -np.inf\n",
    "for trans, result in grid_search_results.items():\n",
    "    if result['test_score'] > best_test_score:\n",
    "        best_test_score = result['test_score']\n",
    "        best_trans = trans\n",
    "\n",
    "print(\"\\n========== Best Transformation for Logistic Regression ==========\")\n",
    "print(f\"Transformation: {best_trans}\")\n",
    "print(f\"Test Score: {grid_search_results[best_trans]['test_score']:.4f}\")\n",
    "print(f\"Best Parameters: {grid_search_results[best_trans]['best_params']}\")"
   ]
  },
  {
   "cell_type": "markdown",
   "id": "1918bc2c",
   "metadata": {},
   "source": [
    "Random Forest"
   ]
  },
  {
   "cell_type": "code",
   "execution_count": 27,
   "id": "6e7614a4",
   "metadata": {},
   "outputs": [
    {
     "name": "stdout",
     "output_type": "stream",
     "text": [
      "======= Grid Search For Every Transformation using Random Forest =======\n",
      "\n",
      "Transformation: Original\n",
      "Test Score: 0.8668\n",
      "Best Parameters: {'max_depth': 10, 'min_samples_split': 5, 'n_estimators': 500}\n",
      "\n",
      "Transformation: PowerTransformer\n",
      "Test Score: 0.8668\n",
      "Best Parameters: {'max_depth': 10, 'min_samples_split': 5, 'n_estimators': 500}\n",
      "\n",
      "Transformation: Log1p\n",
      "Test Score: 0.8668\n",
      "Best Parameters: {'max_depth': 10, 'min_samples_split': 5, 'n_estimators': 500}\n",
      "\n",
      "Transformation: Sqrt\n",
      "Test Score: 0.8668\n",
      "Best Parameters: {'max_depth': 10, 'min_samples_split': 5, 'n_estimators': 500}\n",
      "\n",
      "Transformation: BoxCox\n",
      "Test Score: 0.8635\n",
      "Best Parameters: {'max_depth': 10, 'min_samples_split': 5, 'n_estimators': 500}\n",
      "\n",
      "Transformation: QuantileTransformer\n",
      "Test Score: 0.8668\n",
      "Best Parameters: {'max_depth': 10, 'min_samples_split': 5, 'n_estimators': 500}\n",
      "\n",
      "Transformation: Normalization\n",
      "Test Score: 0.8641\n",
      "Best Parameters: {'max_depth': 10, 'min_samples_split': 10, 'n_estimators': 200}\n",
      "\n",
      "========== Best Transformation for Random Forest ==========\n",
      "Transformation: Original\n",
      "Test Score: 0.8668\n",
      "Best Parameters: {'max_depth': 10, 'min_samples_split': 5, 'n_estimators': 500}\n"
     ]
    }
   ],
   "source": [
    "from sklearn.ensemble import RandomForestClassifier\n",
    "\n",
    "param_grid_rf = {\n",
    "    'n_estimators': [10, 50, 100, 200, 500],\n",
    "    'max_depth': [1, 2, 5, 10],\n",
    "    'min_samples_split': [2, 5, 10],\n",
    "}\n",
    "\n",
    "grid_search_results_rf = {}\n",
    "\n",
    "print(\"======= Grid Search For Every Transformation using Random Forest =======\")\n",
    "for trans_name in transformation_names:\n",
    "    print(f\"\\nTransformation: {trans_name}\")\n",
    "    \n",
    "    rf = RandomForestClassifier(random_state=42)\n",
    "    \n",
    "    grid_rf = GridSearchCV(rf, param_grid_rf, cv=5, scoring='accuracy', n_jobs=-1)\n",
    "    \n",
    "    \n",
    "    grid_rf.fit(transformed_train[trans_name], y_train)\n",
    "    test_score_rf = grid_rf.score(transformed_test[trans_name], y_test)\n",
    "    \n",
    "    grid_search_results_rf[trans_name] = {\n",
    "        'best_params': grid_rf.best_params_,\n",
    "        'test_score': test_score_rf\n",
    "    }\n",
    "    \n",
    "    print(f\"Test Score: {test_score_rf:.4f}\")\n",
    "    print(f\"Best Parameters: {grid_rf.best_params_}\")\n",
    "\n",
    "best_trans_rf = None\n",
    "best_test_score_rf = -np.inf\n",
    "for trans, result in grid_search_results_rf.items():\n",
    "    if result['test_score'] > best_test_score_rf:\n",
    "        best_test_score_rf = result['test_score']\n",
    "        best_trans_rf = trans\n",
    "\n",
    "print(\"\\n========== Best Transformation for Random Forest ==========\")\n",
    "print(f\"Transformation: {best_trans_rf}\")\n",
    "print(f\"Test Score: {grid_search_results_rf[best_trans_rf]['test_score']:.4f}\")\n",
    "print(f\"Best Parameters: {grid_search_results_rf[best_trans_rf]['best_params']}\")"
   ]
  },
  {
   "cell_type": "code",
   "execution_count": 28,
   "id": "703f6f00",
   "metadata": {},
   "outputs": [
    {
     "name": "stdout",
     "output_type": "stream",
     "text": [
      "======= Grid Search For Every Transformation using XGBoost =======\n",
      "\n",
      "Transformation: Original\n"
     ]
    },
    {
     "name": "stderr",
     "output_type": "stream",
     "text": [
      "d:\\Anaconda\\envs\\env1\\Lib\\site-packages\\xgboost\\training.py:183: UserWarning: [16:52:40] WARNING: C:\\actions-runner\\_work\\xgboost\\xgboost\\src\\learner.cc:738: \n",
      "Parameters: { \"use_label_encoder\" } are not used.\n",
      "\n",
      "  bst.update(dtrain, iteration=i, fobj=obj)\n"
     ]
    },
    {
     "name": "stdout",
     "output_type": "stream",
     "text": [
      "Test Score: 0.8674\n",
      "Best Parameters: {'learning_rate': 0.1, 'max_depth': 3, 'n_estimators': 500, 'subsample': 1.0}\n",
      "\n",
      "Transformation: PowerTransformer\n"
     ]
    },
    {
     "name": "stderr",
     "output_type": "stream",
     "text": [
      "d:\\Anaconda\\envs\\env1\\Lib\\site-packages\\xgboost\\training.py:183: UserWarning: [16:54:03] WARNING: C:\\actions-runner\\_work\\xgboost\\xgboost\\src\\learner.cc:738: \n",
      "Parameters: { \"use_label_encoder\" } are not used.\n",
      "\n",
      "  bst.update(dtrain, iteration=i, fobj=obj)\n"
     ]
    },
    {
     "name": "stdout",
     "output_type": "stream",
     "text": [
      "Test Score: 0.8674\n",
      "Best Parameters: {'learning_rate': 0.1, 'max_depth': 3, 'n_estimators': 500, 'subsample': 1.0}\n",
      "\n",
      "Transformation: Log1p\n"
     ]
    },
    {
     "name": "stderr",
     "output_type": "stream",
     "text": [
      "d:\\Anaconda\\envs\\env1\\Lib\\site-packages\\xgboost\\training.py:183: UserWarning: [16:55:27] WARNING: C:\\actions-runner\\_work\\xgboost\\xgboost\\src\\learner.cc:738: \n",
      "Parameters: { \"use_label_encoder\" } are not used.\n",
      "\n",
      "  bst.update(dtrain, iteration=i, fobj=obj)\n"
     ]
    },
    {
     "name": "stdout",
     "output_type": "stream",
     "text": [
      "Test Score: 0.8674\n",
      "Best Parameters: {'learning_rate': 0.1, 'max_depth': 3, 'n_estimators': 500, 'subsample': 1.0}\n",
      "\n",
      "Transformation: Sqrt\n"
     ]
    },
    {
     "name": "stderr",
     "output_type": "stream",
     "text": [
      "d:\\Anaconda\\envs\\env1\\Lib\\site-packages\\xgboost\\training.py:183: UserWarning: [16:56:50] WARNING: C:\\actions-runner\\_work\\xgboost\\xgboost\\src\\learner.cc:738: \n",
      "Parameters: { \"use_label_encoder\" } are not used.\n",
      "\n",
      "  bst.update(dtrain, iteration=i, fobj=obj)\n"
     ]
    },
    {
     "name": "stdout",
     "output_type": "stream",
     "text": [
      "Test Score: 0.8674\n",
      "Best Parameters: {'learning_rate': 0.1, 'max_depth': 3, 'n_estimators': 500, 'subsample': 1.0}\n",
      "\n",
      "Transformation: BoxCox\n"
     ]
    },
    {
     "name": "stderr",
     "output_type": "stream",
     "text": [
      "d:\\Anaconda\\envs\\env1\\Lib\\site-packages\\xgboost\\training.py:183: UserWarning: [16:58:13] WARNING: C:\\actions-runner\\_work\\xgboost\\xgboost\\src\\learner.cc:738: \n",
      "Parameters: { \"use_label_encoder\" } are not used.\n",
      "\n",
      "  bst.update(dtrain, iteration=i, fobj=obj)\n"
     ]
    },
    {
     "name": "stdout",
     "output_type": "stream",
     "text": [
      "Test Score: 0.8532\n",
      "Best Parameters: {'learning_rate': 0.1, 'max_depth': 3, 'n_estimators': 500, 'subsample': 1.0}\n",
      "\n",
      "Transformation: QuantileTransformer\n"
     ]
    },
    {
     "name": "stderr",
     "output_type": "stream",
     "text": [
      "d:\\Anaconda\\envs\\env1\\Lib\\site-packages\\xgboost\\training.py:183: UserWarning: [16:59:40] WARNING: C:\\actions-runner\\_work\\xgboost\\xgboost\\src\\learner.cc:738: \n",
      "Parameters: { \"use_label_encoder\" } are not used.\n",
      "\n",
      "  bst.update(dtrain, iteration=i, fobj=obj)\n"
     ]
    },
    {
     "name": "stdout",
     "output_type": "stream",
     "text": [
      "Test Score: 0.8674\n",
      "Best Parameters: {'learning_rate': 0.1, 'max_depth': 3, 'n_estimators': 500, 'subsample': 1.0}\n",
      "\n",
      "Transformation: Normalization\n"
     ]
    },
    {
     "name": "stderr",
     "output_type": "stream",
     "text": [
      "d:\\Anaconda\\envs\\env1\\Lib\\site-packages\\xgboost\\training.py:183: UserWarning: [17:01:11] WARNING: C:\\actions-runner\\_work\\xgboost\\xgboost\\src\\learner.cc:738: \n",
      "Parameters: { \"use_label_encoder\" } are not used.\n",
      "\n",
      "  bst.update(dtrain, iteration=i, fobj=obj)\n"
     ]
    },
    {
     "name": "stdout",
     "output_type": "stream",
     "text": [
      "Test Score: 0.8652\n",
      "Best Parameters: {'learning_rate': 0.1, 'max_depth': 7, 'n_estimators': 50, 'subsample': 0.8}\n",
      "\n",
      "========== Best Transformation for XGBoost ==========\n",
      "Transformation: Original\n",
      "Test Score: 0.8674\n",
      "Best Parameters: {'learning_rate': 0.1, 'max_depth': 3, 'n_estimators': 500, 'subsample': 1.0}\n"
     ]
    }
   ],
   "source": [
    "from xgboost import XGBClassifier\n",
    "\n",
    "param_grid_xgb = {\n",
    "    'n_estimators': [50, 100, 200, 500],\n",
    "    'max_depth': [3, 5, 7],\n",
    "    'learning_rate': [0.01, 0.1, 0.2],\n",
    "    'subsample': [0.8, 1.0]\n",
    "}\n",
    "\n",
    "grid_search_results_xgb = {}\n",
    "\n",
    "print(\"======= Grid Search For Every Transformation using XGBoost =======\")\n",
    "for trans_name in transformation_names:\n",
    "    print(f\"\\nTransformation: {trans_name}\")\n",
    "    \n",
    "    xgb_clf = XGBClassifier(random_state=42, use_label_encoder=False, eval_metric='logloss')\n",
    "    \n",
    "    grid_xgb = GridSearchCV(xgb_clf, param_grid_xgb, cv=5, scoring='accuracy', n_jobs=-1)\n",
    "    \n",
    " \n",
    "    grid_xgb.fit(transformed_train[trans_name], y_train)\n",
    "    test_score_xgb = grid_xgb.score(transformed_test[trans_name], y_test)\n",
    "    \n",
    "    grid_search_results_xgb[trans_name] = {\n",
    "        'best_params': grid_xgb.best_params_,\n",
    "        'test_score': test_score_xgb\n",
    "    }\n",
    "    \n",
    "    print(f\"Test Score: {test_score_xgb:.4f}\")\n",
    "    print(f\"Best Parameters: {grid_xgb.best_params_}\")\n",
    "\n",
    "best_trans_xgb = None\n",
    "best_test_score_xgb = -np.inf\n",
    "for trans, result in grid_search_results_xgb.items():\n",
    "    if result['test_score'] > best_test_score_xgb:\n",
    "        best_test_score_xgb = result['test_score']\n",
    "        best_trans_xgb = trans\n",
    "\n",
    "print(\"\\n========== Best Transformation for XGBoost ==========\")\n",
    "print(f\"Transformation: {best_trans_xgb}\")\n",
    "print(f\"Test Score: {grid_search_results_xgb[best_trans_xgb]['test_score']:.4f}\")\n",
    "print(f\"Best Parameters: {grid_search_results_xgb[best_trans_xgb]['best_params']}\")"
   ]
  }
 ],
 "metadata": {
  "kernelspec": {
   "display_name": "env1",
   "language": "python",
   "name": "python3"
  },
  "language_info": {
   "codemirror_mode": {
    "name": "ipython",
    "version": 3
   },
   "file_extension": ".py",
   "mimetype": "text/x-python",
   "name": "python",
   "nbconvert_exporter": "python",
   "pygments_lexer": "ipython3",
   "version": "3.12.10"
  }
 },
 "nbformat": 4,
 "nbformat_minor": 5
}
